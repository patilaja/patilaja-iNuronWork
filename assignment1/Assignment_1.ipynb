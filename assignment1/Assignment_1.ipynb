{
 "cells": [
  {
   "cell_type": "markdown",
   "metadata": {},
   "source": [
    "# Task 1"
   ]
  },
  {
   "cell_type": "markdown",
   "metadata": {},
   "source": [
    "2. Write a program which will find all such numbers which are divisible by 7 but are not a multipleof 5, between 2000 and 3200 (both included). The numbers obtained should be printed in a comma-separated sequence on a single line."
   ]
  },
  {
   "cell_type": "code",
   "execution_count": 1,
   "metadata": {},
   "outputs": [
    {
     "name": "stdout",
     "output_type": "stream",
     "text": [
      "2002,2009,2016,2023,2037,2044,2051,2058,2072,2079,2086,2093,2107,2114,2121,2128,2142,2149,2156,2163,2177,2184,2191,2198,2212,2219,2226,2233,2247,2254,2261,2268,2282,2289,2296,2303,2317,2324,2331,2338,2352,2359,2366,2373,2387,2394,2401,2408,2422,2429,2436,2443,2457,2464,2471,2478,2492,2499,2506,2513,2527,2534,2541,2548,2562,2569,2576,2583,2597,2604,2611,2618,2632,2639,2646,2653,2667,2674,2681,2688,2702,2709,2716,2723,2737,2744,2751,2758,2772,2779,2786,2793,2807,2814,2821,2828,2842,2849,2856,2863,2877,2884,2891,2898,2912,2919,2926,2933,2947,2954,2961,2968,2982,2989,2996,3003,3017,3024,3031,3038,3052,3059,3066,3073,3087,3094,3101,3108,3122,3129,3136,3143,3157,3164,3171,3178,3192,3199"
     ]
    }
   ],
   "source": [
    "#Number divisible by 7 and not multiple of 5.\n",
    "#USe list compression to build list\n",
    "number_string=[str(number) for number in range(2000,3201) if number %7 ==0 and number %5 !=0]\n",
    "\n",
    "#Convert list to string\n",
    "number_string=','.join(number_string)\n",
    "\n",
    "#Disply results\n",
    "print(number_string, end=\"\")"
   ]
  },
  {
   "cell_type": "markdown",
   "metadata": {},
   "source": [
    "3 Write a Python program to accept the user's first and last name and then getting them printed in the the reverse order with a space between first name and last name"
   ]
  },
  {
   "cell_type": "code",
   "execution_count": 9,
   "metadata": {},
   "outputs": [
    {
     "name": "stdout",
     "output_type": "stream",
     "text": [
      "Please enter your First Name: Ajay \n",
      "Please enter your Last Name: Patil\n",
      "Reverse of user first name and last name is: yajA litaP\n"
     ]
    }
   ],
   "source": [
    "#Get first Name \n",
    "first_name = input(\"Please enter your First Name: \")\n",
    "\n",
    "#Get Last Name\n",
    "last_name = input(\"Please enter your Last Name: \")\n",
    "\n",
    "#Resverse name\n",
    "rfirst_name=(first_name[::-1]).strip()\n",
    "rlast_name=(last_name[::-1]).strip()\n",
    "\n",
    "#Reverse user name using string slicing\n",
    "print(\"Reverse of user first name and last name is:\",rfirst_name,rlast_name)\n"
   ]
  },
  {
   "cell_type": "markdown",
   "metadata": {},
   "source": [
    "4. Write a Python program to find the volume of a sphere with diameter 12 cm. Formula: V=4/3 * π * r^3"
   ]
  },
  {
   "cell_type": "code",
   "execution_count": 10,
   "metadata": {},
   "outputs": [
    {
     "name": "stdout",
     "output_type": "stream",
     "text": [
      "Volume of a sphere with diameter 12 cm is 904.78 cubic cm.\n"
     ]
    }
   ],
   "source": [
    "import math\n",
    "\n",
    "#Diameter is given and find the volume of a sphere\n",
    "diameter = 12\n",
    "pi_value = math.pi\n",
    "\n",
    "#Calculate radius (hald of diameter)\n",
    "radius = diameter/2\n",
    "\n",
    "#Formula of spehere volume\n",
    "volume_formula = 4/3*pi_value*radius**3\n",
    "\n",
    "#Round volume to to digit float value\n",
    "print(f\"Volume of a sphere with diameter 12 cm is {round(volume_formula,2)} cubic cm.\")"
   ]
  },
  {
   "cell_type": "markdown",
   "metadata": {},
   "source": [
    "# Task 2"
   ]
  },
  {
   "cell_type": "markdown",
   "metadata": {},
   "source": [
    "1. Write a program which accepts a sequence of comma-separated numbers from console and generate a list."
   ]
  },
  {
   "cell_type": "code",
   "execution_count": 11,
   "metadata": {},
   "outputs": [
    {
     "name": "stdout",
     "output_type": "stream",
     "text": [
      "Please enter comma seperated numbers: 4,6,7,1,0,2\n"
     ]
    },
    {
     "data": {
      "text/plain": [
       "[4, 6, 7, 1, 0, 2]"
      ]
     },
     "execution_count": 11,
     "metadata": {},
     "output_type": "execute_result"
    }
   ],
   "source": [
    "#Note: User input is not validated and expected to enter comman seperated values\n",
    "#User input\n",
    "user_input =input(\"Please enter comma seperated numbers: \")\n",
    "\n",
    "#Convert string to list\n",
    "number_list=[int(item) for item in user_input.split(\",\")]\n",
    "\n",
    "number_list"
   ]
  },
  {
   "cell_type": "markdown",
   "metadata": {},
   "source": [
    "2. Create the below pattern using nested for loop in Python."
   ]
  },
  {
   "cell_type": "code",
   "execution_count": 12,
   "metadata": {},
   "outputs": [
    {
     "name": "stdout",
     "output_type": "stream",
     "text": [
      "\n",
      "*\n",
      "**\n",
      "***\n",
      "****\n",
      "*****\n",
      "****\n",
      "***\n",
      "**\n",
      "*\n",
      "\n"
     ]
    }
   ],
   "source": [
    "#print 4 pattern - forward and then reversed\n",
    "\n",
    "#Function takes two aruguments - \n",
    "    #icount: # of stars to be printed;\n",
    "    #direction: direction of print (Print forward for F and reverse for any value)\n",
    "\n",
    "def starPatter(icount,direction):\n",
    "    if direction ==\"F\":\n",
    "        for i in range(icount+1):\n",
    "            print(\"*\"*i,end=\"\\n\")\n",
    "    else:\n",
    "        for i in range(icount+1):\n",
    "            #Adding condition to skip printing 5 stars which are already printed in earlier step\n",
    "            if i>0:\n",
    "                print(\"*\"*(icount-i),end=\"\\n\")\n",
    "\n",
    "#Display results\n",
    "starPatter(5,\"F\")\n",
    "starPatter(5,\"R\")  "
   ]
  },
  {
   "cell_type": "markdown",
   "metadata": {},
   "source": [
    "3. Write a Python program to reverse a word after accepting the input from the user. "
   ]
  },
  {
   "cell_type": "code",
   "execution_count": 13,
   "metadata": {},
   "outputs": [
    {
     "name": "stdout",
     "output_type": "stream",
     "text": [
      "Please enter the word to be reversed: This is Python Learning\n",
      "Hello\n",
      "\n",
      "Reversed word for 'This is Python Learning' is 'gninraeL nohtyP si sihT'\n",
      "Do you want to try another word (Y)es or N(o)?n\n"
     ]
    }
   ],
   "source": [
    "#Get user input value\n",
    "use_input=input(\"Please enter the word to be reversed: \")\n",
    "print(\"Hello\")\n",
    "\n",
    "#Let's show result ans give an opprtunity for user to try more words\n",
    "while len(use_input)>0:\n",
    "\n",
    "    #Display result\n",
    "    print(f\"\\nReversed word for '{use_input}' is '{use_input[::-1]}'\")\n",
    "    \n",
    "    #Check if user want to try another word\n",
    "    play =input(\"Do you want to try another word (Y)es or N(o)?\")\n",
    "    \n",
    "    #Check user response\n",
    "    if play.upper() ==\"Y\":\n",
    "        use_input=input(\"\\nPlease enter the word to be reversed: \")\n",
    "    else:\n",
    "        use_input=\"\""
   ]
  },
  {
   "cell_type": "markdown",
   "metadata": {},
   "source": [
    "4. Write a Python Program to print the given string in the format specified in the ​sample output. \n",
    " WE, THE PEOPLE OF INDIA, having solemnly resolved to constitute India into a SOVEREIGN, SOCIALIST, SECULAR, DEMOCRATIC REPUBLIC and to secure to all its citizens \n",
    " \n",
    "Sample Output: \n",
    " \n",
    "WE, THE PEOPLE OF INDIA,   \n",
    "      having solemnly resolved to constitute India into a SOVEREIGN, ! \n",
    "              SOCIALIST, SECULAR, DEMOCRATIC REPUBLIC\n",
    "               and to secure to all its citizens "
   ]
  },
  {
   "cell_type": "code",
   "execution_count": 14,
   "metadata": {},
   "outputs": [
    {
     "name": "stdout",
     "output_type": "stream",
     "text": [
      "Formatted output :\n",
      "\n",
      " WE, THE PEOPLE OF INDIA,\n",
      "\thaving solemnly resolved to constitute India into a SOVEREIGN, !\t\n",
      "\t\tSOCIALIST, SECULAR, DEMOCRATIC REPUBLIC \n",
      "\t\t and to secure to all its citizens \n"
     ]
    }
   ],
   "source": [
    "#Sample text\n",
    "sample_text = \"WE, THE PEOPLE OF INDIA, having solemnly resolved to constitute India into a SOVEREIGN, SOCIALIST, SECULAR, DEMOCRATIC REPUBLIC and to secure to all its citizens\"\n",
    "\n",
    "#Use string fuctions to replace and fromat \n",
    "formatted_text = sample_text.replace(\"INDIA, \", \"INDIA,\\n\\t\").replace(\"SOVEREIGN, \", \"SOVEREIGN, !\\t\").replace(\"SOCIALIST\",\"\\n\\t\\tSOCIALIST\").replace(\"and\", \"\\n\\t\\t and\") + (\" \")\n",
    "print (\"Formatted output :\\n\\n \" + formatted_text)"
   ]
  },
  {
   "cell_type": "code",
   "execution_count": null,
   "metadata": {},
   "outputs": [],
   "source": []
  }
 ],
 "metadata": {
  "kernelspec": {
   "display_name": "Python 3",
   "language": "python",
   "name": "python3"
  },
  "language_info": {
   "codemirror_mode": {
    "name": "ipython",
    "version": 3
   },
   "file_extension": ".py",
   "mimetype": "text/x-python",
   "name": "python",
   "nbconvert_exporter": "python",
   "pygments_lexer": "ipython3",
   "version": "3.7.4"
  }
 },
 "nbformat": 4,
 "nbformat_minor": 4
}
