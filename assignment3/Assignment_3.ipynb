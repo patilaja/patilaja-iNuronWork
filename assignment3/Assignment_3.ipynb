{
 "cells": [
  {
   "cell_type": "markdown",
   "metadata": {},
   "source": [
    "# Task 1"
   ]
  },
  {
   "cell_type": "markdown",
   "metadata": {},
   "source": [
    "1. Write a function to compute 5/0 and use try/except to catch the exceptions."
   ]
  },
  {
   "cell_type": "code",
   "execution_count": 32,
   "metadata": {},
   "outputs": [
    {
     "name": "stdout",
     "output_type": "stream",
     "text": [
      "Number division operation unscusseful. Error is: DIVISION BY ZERO\n"
     ]
    }
   ],
   "source": [
    "#Function to catch division by zero error\n",
    "def numDiv(numerator, denominator):\n",
    "     \n",
    "    #Variable to hold division result value\n",
    "    result = 0\n",
    "    \n",
    "    try:\n",
    "        #Perform divisio operation\n",
    "        result = numerator/denominator\n",
    "        #Print result\n",
    "        return \"Result of division is: \"+ str(result)\n",
    "\n",
    "    except ZeroDivisionError as e:\n",
    "        #Print error\n",
    "        return \"Number division operation unscusseful. Error is: \" + str(e).upper()    \n",
    "\n",
    "#Test results\n",
    "sResult = numDiv(5,0)\n",
    "\n",
    "#Display results\n",
    "print(sResult)\n"
   ]
  },
  {
   "cell_type": "markdown",
   "metadata": {},
   "source": [
    "2. Implement a Python program to generate all sentences where subject is in [\"Americans\",\"Indians\"] and verb is in [\"Play\", \"watch\"] and the object is in [\"Baseball\",\"cricket\"].\n",
    "\n",
    "    Hint: Subject,Verb and Object should be declared in the program as shown below.\n",
    "          subjects=[\"Americans\",\"Indians\"] verbs=[\"play\",\"watch\"] objects=[\"Baseball\",\"Cricket\"]\n",
    "\n",
    "            Output should come as below:\n",
    "            Americans play Baseball.\n",
    "            Americans play Cricket.\n",
    "            Americans watch Baseball.\n",
    "            Americans watch Cricket. \n",
    "            Indians play Baseball.\n",
    "            Indians play Cricket.\n",
    "            Indians watch Baseball.\n",
    "            Indians watch Cricket."
   ]
  },
  {
   "cell_type": "code",
   "execution_count": 49,
   "metadata": {},
   "outputs": [
    {
     "name": "stdout",
     "output_type": "stream",
     "text": [
      "Americans play Baseball.\n",
      "Americans play Cricket.\n",
      "Americans watch Baseball.\n",
      "Americans watch Cricket.\n",
      "Indians play Baseball.\n",
      "Indians play Cricket.\n",
      "Indians watch Baseball.\n",
      "Indians watch Cricket.\n",
      "\n"
     ]
    }
   ],
   "source": [
    "#List declaration and intitalizaion\n",
    "subjects,verbs,objects=[\"Americans\",\"Indians\"],[\"play\",\"watch\"],[\"Baseball\",\"Cricket\"]\n",
    "\n",
    "#List compression -Loop through three lists to generate desigred results\n",
    "[print(isubject,iverb,iobject,end=\".\\n\") for isubject in subjects for iverb in verbs for iobject in objects]    \n",
    "print(\"\")            "
   ]
  },
  {
   "cell_type": "markdown",
   "metadata": {},
   "source": [
    "# Task 2"
   ]
  },
  {
   "cell_type": "markdown",
   "metadata": {},
   "source": [
    "1. Write a function so that the columns of the output matrix are powers of the input vector. The order of the powers is determined by the increasing boolean argument. Specifically, when increasing is False, the i-th output column is the input vector raised element-wise to the power of N-i-1.\n",
    "\n",
    "    HINT: Such a matrix with a geometric progression in each row is named for AlexandreTheophile Vandermonde"
   ]
  },
  {
   "cell_type": "code",
   "execution_count": 16,
   "metadata": {},
   "outputs": [
    {
     "name": "stdout",
     "output_type": "stream",
     "text": [
      "The input array is: [1 2 3 4] \n",
      "\n",
      "Number of columns in output matrix : 3 \n",
      "\n",
      "Result in decreasing order of powers:\n",
      " [[ 1  1  1]\n",
      " [ 4  2  1]\n",
      " [ 9  3  1]\n",
      " [16  4  1]] \n",
      "\n",
      "Result in increasing order of powers:\n",
      " [[ 1  1  1]\n",
      " [ 1  2  4]\n",
      " [ 1  3  9]\n",
      " [ 1  4 16]] \n",
      "\n"
     ]
    }
   ],
   "source": [
    "import numpy as np\n",
    "\n",
    "def VandermondeMatrix(iVector,n,increasing=False):\n",
    "    if increasing:\n",
    "        matrix = np.array([num**i for num in iVector for i in range(n)])\n",
    "    else:\n",
    "        matrix = np.array([num**(n-1-i) for num in iVector for i in range(n)])\n",
    "\n",
    "    return matrix\n",
    "\n",
    "#Declaration and intialization of vector and \n",
    "#rows\n",
    "iVector = np.array([1,2,3,4])\n",
    "#columns\n",
    "n=3\n",
    "\n",
    "#Display results\n",
    "matrix_decrease = VandermondeMatrix(iVector,n,False)\n",
    "matrix_increase = VandermondeMatrix(iVector,n,True)\n",
    "\n",
    "print(\"The input array is:\",iVector,\"\\n\")\n",
    "print(\"Number of columns in output matrix :\",n,\"\\n\")\n",
    "print(\"Result in decreasing order of powers:\\n\",matrix_decrease.reshape(iVector.size,n),\"\\n\")\n",
    "print(\"Result in increasing order of powers:\\n\",matrix_increase.reshape(iVector.size,n),\"\\n\")"
   ]
  },
  {
   "cell_type": "code",
   "execution_count": null,
   "metadata": {},
   "outputs": [],
   "source": []
  }
 ],
 "metadata": {
  "kernelspec": {
   "display_name": "Python 3",
   "language": "python",
   "name": "python3"
  },
  "language_info": {
   "codemirror_mode": {
    "name": "ipython",
    "version": 3
   },
   "file_extension": ".py",
   "mimetype": "text/x-python",
   "name": "python",
   "nbconvert_exporter": "python",
   "pygments_lexer": "ipython3",
   "version": "3.7.4"
  }
 },
 "nbformat": 4,
 "nbformat_minor": 2
}
