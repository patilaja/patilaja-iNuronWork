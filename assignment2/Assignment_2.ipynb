{
 "cells": [
  {
   "cell_type": "markdown",
   "metadata": {},
   "source": [
    "# Task 1"
   ]
  },
  {
   "cell_type": "markdown",
   "metadata": {},
   "source": [
    "1.1 Write a Python Program to implement your own myreduce() function which works exactly like Python's built-in function reduce()\n"
   ]
  },
  {
   "cell_type": "code",
   "execution_count": 18,
   "metadata": {},
   "outputs": [],
   "source": [
    "def myreduce(func,param):\n",
    "   \n",
    "    #set intial variable\n",
    "    comp=0 if func==\"add\"else 1\n",
    "  \n",
    "    for i in param:\n",
    "        if func==\"add\":\n",
    "            comp= addition(i,comp)\n",
    "        elif func==\"mult\":\n",
    "            comp = multiply(i,comp)\n",
    "        else:\n",
    "            return (\"Function does not exists in the library\")\n",
    "    return comp\n",
    "\n",
    "def addition(i,comp):\n",
    "        return i+comp\n",
    "        \n",
    "def multiply(i,comp):\n",
    "        return i*comp"
   ]
  },
  {
   "cell_type": "code",
   "execution_count": 19,
   "metadata": {},
   "outputs": [
    {
     "name": "stdout",
     "output_type": "stream",
     "text": [
      "Addition of list numbers is:  10\n"
     ]
    }
   ],
   "source": [
    "#Testing outputs for add\n",
    "addition=myreduce(\"add\", [1,2,3,4])\n",
    "print ('Addition of list numbers is: ', addition)"
   ]
  },
  {
   "cell_type": "code",
   "execution_count": 20,
   "metadata": {},
   "outputs": [
    {
     "name": "stdout",
     "output_type": "stream",
     "text": [
      "Product of numbers in the given range is:  6\n"
     ]
    }
   ],
   "source": [
    "#Testing multplication\n",
    "product=myreduce(\"mult\", range(1, 4))\n",
    "print ('Product of numbers in the given range is: ', product)"
   ]
  },
  {
   "cell_type": "markdown",
   "metadata": {},
   "source": [
    "1.2 Write a Python program to implement your own myfilter() function which works exactly like Python's built-in function filter()"
   ]
  },
  {
   "cell_type": "code",
   "execution_count": 21,
   "metadata": {},
   "outputs": [],
   "source": [
    "#Custome myfiter function\n",
    "def myfilter(func,param):\n",
    "    \n",
    "    #set intial variable\n",
    "    comp=[]\n",
    "  \n",
    "    for i in param:\n",
    "        if func==\"even\": \n",
    "            if isEvenOdd(i):\n",
    "                comp.append(i)\n",
    "        elif func==\"odd\":\n",
    "            if isEvenOdd(i)==False:\n",
    "                comp.append(i)\n",
    "        else:\n",
    "            return (\"Function does not exists in the library\")\n",
    "    \n",
    "    return comp\n",
    "\n",
    "def isEvenOdd(i):\n",
    "        if i%2==0:\n",
    "            return True\n",
    "        else:\n",
    "            return False"
   ]
  },
  {
   "cell_type": "code",
   "execution_count": 22,
   "metadata": {},
   "outputs": [
    {
     "name": "stdout",
     "output_type": "stream",
     "text": [
      "Odd numbers between 1-10: [1, 3, 5, 7, 9]\n"
     ]
    }
   ],
   "source": [
    "#Get odd numbers from 1-10\n",
    "odd=myfilter(\"odd\", range(1, 10))\n",
    "print ('Odd numbers between 1-10:', odd)"
   ]
  },
  {
   "cell_type": "code",
   "execution_count": 23,
   "metadata": {},
   "outputs": [
    {
     "name": "stdout",
     "output_type": "stream",
     "text": [
      "Even numbers from the given list: [2, 4, 6, 8, 10, 20]\n"
     ]
    }
   ],
   "source": [
    "#Get even numbers from the list\n",
    "even = myfilter(\"even\", [1,2,4,6,8,10,15,20])\n",
    "print ('Even numbers from the given list:', even)"
   ]
  },
  {
   "cell_type": "markdown",
   "metadata": {},
   "source": [
    "2. Implement List comprehensions to produce the following lists. Write List comprehensions to produce the following Lists\n",
    "['A', 'C', 'A', 'D', 'G', 'I', ’L’, ‘ D’]\n",
    "['x', 'xx', 'xxx', 'xxxx', 'y', 'yy', 'yyy', 'yyyy', 'z', 'zz', 'zzz', 'zzzz']\n",
    "['x', 'y', 'z', 'xx', 'yy', 'zz', 'xxx', 'yyy', 'zzz', 'xxxx', 'yyyy', 'zzzz']\n",
    "[[2], [3], [4], [3], [4], [5], [4], [5], [6]]\n",
    "[[2, 3, 4, 5], [3, 4, 5, 6], [4, 5, 6, 7], [5, 6, 7, 8]]\n",
    "[(1, 1), (2, 1), (3, 1), (1, 2), (2, 2), (3, 2), (1, 3), (2, 3), (3, 3)]\n"
   ]
  },
  {
   "cell_type": "code",
   "execution_count": 24,
   "metadata": {},
   "outputs": [
    {
     "name": "stdout",
     "output_type": "stream",
     "text": [
      "['A', 'C', 'A', 'D', 'G', 'I', 'L', 'D']\n"
     ]
    }
   ],
   "source": [
    "#['A', 'C', 'A', 'D', 'G', 'I', ’L’, ‘ D’]\n",
    "#Input string for list compression\n",
    "istring=\"ACADGILD\"\n",
    "\n",
    "#Build List\n",
    "ilist= [i for i in (istring)]\n",
    "\n",
    "#Display results\n",
    "print(ilist)"
   ]
  },
  {
   "cell_type": "code",
   "execution_count": 25,
   "metadata": {},
   "outputs": [
    {
     "name": "stdout",
     "output_type": "stream",
     "text": [
      "['x', 'xx', 'xxx', 'xxxx', 'y', 'yy', 'yyy', 'yyyy', 'z', 'zz', 'zzz', 'zzzz']\n"
     ]
    }
   ],
   "source": [
    "#['x', 'xx', 'xxx', 'xxxx', 'y', 'yy', 'yyy', 'yyyy', 'z', 'zz', 'zzz', 'zzzz']\n",
    "#Input string for list compression\n",
    "istring=\"xyz\"\n",
    "\n",
    "#Build List\n",
    "ilist= [chr*count for chr in (istring) for count in range(1,5)]\n",
    "\n",
    "#Display results\n",
    "print(ilist)"
   ]
  },
  {
   "cell_type": "code",
   "execution_count": 26,
   "metadata": {},
   "outputs": [
    {
     "name": "stdout",
     "output_type": "stream",
     "text": [
      "['x', 'y', 'z', 'xx', 'yy', 'zz', 'xxx', 'yyy', 'zzz', 'xxxx', 'yyyy', 'zzzz']\n"
     ]
    }
   ],
   "source": [
    "#['x', 'y', 'z', 'xx', 'yy', 'zz', 'xxx', 'yyy', 'zzz', 'xxxx', 'yyyy', 'zzzz']\n",
    "#Input string for list compression\n",
    "istring=\"xyz\"\n",
    "\n",
    "#Build List\n",
    "ilist= [chr*count for count in range(1,5) for chr in (istring)]\n",
    "\n",
    "#Display results\n",
    "print(ilist)"
   ]
  },
  {
   "cell_type": "code",
   "execution_count": 27,
   "metadata": {},
   "outputs": [
    {
     "name": "stdout",
     "output_type": "stream",
     "text": [
      "[[2], [3], [4], [3], [4], [5], [4], [5], [6]]\n"
     ]
    }
   ],
   "source": [
    "#[[2], [3], [4], [3], [4], [5], [4], [5], [6]]\n",
    "#Input list\n",
    "ilist=[2,3,4]\n",
    "\n",
    "#Build list\n",
    "ilist=[[num+count] for count in range(3) for num in ilist]\n",
    "\n",
    "#Display results\n",
    "print(ilist)"
   ]
  },
  {
   "cell_type": "code",
   "execution_count": 28,
   "metadata": {},
   "outputs": [
    {
     "name": "stdout",
     "output_type": "stream",
     "text": [
      "[[2, 3, 4, 5], [3, 4, 5, 6], [4, 5, 6, 7], [5, 6, 7, 8]]\n"
     ]
    }
   ],
   "source": [
    "#[[2, 3, 4, 5], [3, 4, 5, 6], [4, 5, 6, 7], [5, 6, 7, 8]]\n",
    "#Input list\n",
    "ilist=[2,3,4,5]\n",
    "\n",
    "#Build list\n",
    "ilist=[[num+count for count in range(4)] for num in ilist]\n",
    "\n",
    "#Display results\n",
    "print(ilist)"
   ]
  },
  {
   "cell_type": "code",
   "execution_count": 29,
   "metadata": {},
   "outputs": [
    {
     "name": "stdout",
     "output_type": "stream",
     "text": [
      "[(1, 1), (2, 1), (3, 1), (1, 2), (2, 2), (3, 2), (1, 3), (2, 3), (3, 3)]\n"
     ]
    }
   ],
   "source": [
    "#[(1, 1), (2, 1), (3, 1), (1, 2), (2, 2), (3, 2), (1, 3), (2, 3), (3, 3)]\n",
    "#Input list\n",
    "ilist=[1,2,3]\n",
    "\n",
    "#Build list\n",
    "ilist=[(num2,num1) for num1 in ilist for num2 in ilist]\n",
    "\n",
    "#Display results\n",
    "print(ilist)"
   ]
  },
  {
   "cell_type": "markdown",
   "metadata": {},
   "source": [
    "3. Implement a function longestWord() that takes a list of words and returns the longest one.\n"
   ]
  },
  {
   "cell_type": "code",
   "execution_count": 31,
   "metadata": {},
   "outputs": [
    {
     "name": "stdout",
     "output_type": "stream",
     "text": [
      "Longest word from the sample list is:  metplotlib\n"
     ]
    }
   ],
   "source": [
    "def longestWord(word_list):\n",
    "    word_new_list=[]\n",
    "    for item in word_list:\n",
    "        word_new_list.append((len(item),item))\n",
    "        \n",
    "    word_new_list.sort()\n",
    "    \n",
    "    return word_new_list[-1][1]\n",
    "    \n",
    "word_list=[\"Python\",\"Panda\",\"metplotlib\"]\n",
    "\n",
    "print(\"Longest word from the sample list is: \",longestWord(word_list))"
   ]
  },
  {
   "cell_type": "markdown",
   "metadata": {},
   "source": [
    "# Task 2:"
   ]
  },
  {
   "cell_type": "markdown",
   "metadata": {},
   "source": [
    "1.1 Write a Python Program (with class concepts) to find the area of the triangle using the below formula. \n",
    "    area = (s*(s-a)*(s-b)*(s-c)) ** 0.5\n",
    "    \n",
    "Function to take the length of the sides of triangle from user should be defined in the parent class and function to calculate the area should be defined in subclass."
   ]
  },
  {
   "cell_type": "code",
   "execution_count": 33,
   "metadata": {},
   "outputs": [
    {
     "name": "stdout",
     "output_type": "stream",
     "text": [
      "Please enter 1st side of a triangle: 5\n",
      "Please enter 2nd side of a triangle: 6\n",
      "Please enter 3rd side of a triangle: 7\n",
      "\n",
      "Area of triangle 14.7 square units\n"
     ]
    }
   ],
   "source": [
    "#Triangle area class - assumption: User will be entering numberic value\n",
    "class areaTriangle:\n",
    "    def __init__(self,a,b,c):\n",
    "        self.a= a\n",
    "        self.b= b\n",
    "        self.c= c\n",
    "        #self.s= s\n",
    "    \n",
    "    def areacal(self):\n",
    "        #Calculate perimeter\n",
    "        self.s= (self.a+self.b+self.c)/2\n",
    "        return round(((self.s*(self.s-self.a)*(self.s-self.b)*(self.s-self.c)) ** 0.5),2)\n",
    "        \n",
    "\n",
    "#Take user inputs\n",
    "side1 = int(input(\"Please enter 1st side of a triangle: \"))\n",
    "side2 = int(input(\"Please enter 2nd side of a triangle: \"))\n",
    "side3 = int(input(\"Please enter 3rd side of a triangle: \"))\n",
    "\n",
    "#Create class object\n",
    "triangleArea=areaTriangle(side1,side2,side3)\n",
    "area =triangleArea.areacal()\n",
    "print(f\"\\nArea of triangle {area} square units\")"
   ]
  },
  {
   "cell_type": "markdown",
   "metadata": {},
   "source": [
    "1.2 Write a function filter_long_words() that takes a list of words and an integer n and returns the list of words that are longer than n."
   ]
  },
  {
   "cell_type": "code",
   "execution_count": 34,
   "metadata": {},
   "outputs": [
    {
     "name": "stdout",
     "output_type": "stream",
     "text": [
      "['Oracle', 'Microsoft', 'Google']\n"
     ]
    }
   ],
   "source": [
    "#Define function to retuen list of selected words\n",
    "def filter_long_words(list,n):\n",
    "    slist =[]\n",
    "    for item in list:\n",
    "        if len(item)>n:\n",
    "            slist.append(item)\n",
    "\n",
    "    return slist\n",
    "\n",
    "#Sample input list            \n",
    "list=[\"HP\",\"Oracle\",\"Intel\",\"Microsoft\",\"Google\"]\n",
    "\n",
    "#Display result for words longer than 5 characters\n",
    "print(filter_long_words(list,5))\n"
   ]
  },
  {
   "cell_type": "markdown",
   "metadata": {},
   "source": [
    "2.1 Write a Python program using function concept that maps list of words into a list of integers representing the lengths of the corresponding words.\n",
    "\n",
    "Hint: If a list [ ab,cde,erty] is passed on to the python function output should come as [2,3,4] Here 2,3 and 4 are the lengths of the words in the list."
   ]
  },
  {
   "cell_type": "code",
   "execution_count": 35,
   "metadata": {},
   "outputs": [
    {
     "name": "stdout",
     "output_type": "stream",
     "text": [
      "[2, 6, 5, 9]\n"
     ]
    }
   ],
   "source": [
    "#Define function to return length of list of given words\n",
    "def word_length(list):\n",
    "    slist =[]\n",
    "    for item in list:\n",
    "        slist.append(len(item))\n",
    "\n",
    "    return slist\n",
    "\n",
    "#Sample input list            \n",
    "list=[\"HP\",\"Oracle\",\"Intel\",\"Microsoft\"]\n",
    "\n",
    "#Display result for length of words \n",
    "print(word_length(list))"
   ]
  },
  {
   "cell_type": "code",
   "execution_count": null,
   "metadata": {},
   "outputs": [],
   "source": [
    "2.2 Write a Python function which takes a character (i.e. a string of length 1) and returns True if it is a vowel, \n",
    "False otherwise."
   ]
  },
  {
   "cell_type": "code",
   "execution_count": 37,
   "metadata": {},
   "outputs": [
    {
     "name": "stdout",
     "output_type": "stream",
     "text": [
      "Please enter character you would like to check if vowel or not:w\n",
      "\n",
      " Is character 'w' that you entered is vowel?: False\n",
      "\n",
      " Do you want to check for another character: Y(es) or N(o):y\n",
      "\n",
      " Please enter character you would like to check if vowel or not:u\n",
      "\n",
      " Is character 'u' that you entered is vowel?: True\n",
      "\n",
      " Do you want to check for another character: Y(es) or N(o):y\n",
      "\n",
      " Please enter character you would like to check if vowel or not:e\n",
      "\n",
      " Is character 'e' that you entered is vowel?: True\n",
      "\n",
      " Do you want to check for another character: Y(es) or N(o):n\n"
     ]
    }
   ],
   "source": [
    "#Function that determines if char is vowel or not\n",
    "def checkVowel(chr):\n",
    "    vlist=[\"a\",\"e\",\"i\",\"o\",\"u\"]\n",
    "    if (chr).lower() in vlist:\n",
    "        return True\n",
    "    else:\n",
    "        return False\n",
    "\n",
    "chr=input(\"Please enter character you would like to check if vowel or not:\")\n",
    "\n",
    "while len(chr)>0:\n",
    "    \n",
    "    isVowel = checkVowel(chr)\n",
    "    \n",
    "    print(f\"\\n Is character '{chr}' that you entered is vowel?: {isVowel}\")\n",
    "    \n",
    "    choice = input(\"\\n Do you want to check for another character: Y(es) or N(o):\")\n",
    "    if choice.upper() == \"Y\":\n",
    "       chr = input(\"\\n Please enter character you would like to check if vowel or not:\")\n",
    "    else:\n",
    "        chr=\"\"  "
   ]
  },
  {
   "cell_type": "code",
   "execution_count": null,
   "metadata": {},
   "outputs": [],
   "source": []
  }
 ],
 "metadata": {
  "kernelspec": {
   "display_name": "Python 3",
   "language": "python",
   "name": "python3"
  },
  "language_info": {
   "codemirror_mode": {
    "name": "ipython",
    "version": 3
   },
   "file_extension": ".py",
   "mimetype": "text/x-python",
   "name": "python",
   "nbconvert_exporter": "python",
   "pygments_lexer": "ipython3",
   "version": "3.7.4"
  }
 },
 "nbformat": 4,
 "nbformat_minor": 2
}
